{
 "cells": [
  {
   "cell_type": "code",
   "execution_count": 2,
   "metadata": {},
   "outputs": [
    {
     "name": "stdout",
     "output_type": "stream",
     "text": [
      "Collecting pandas\n",
      "  Downloading pandas-2.0.2-cp310-cp310-manylinux_2_17_x86_64.manylinux2014_x86_64.whl (12.3 MB)\n",
      "\u001b[2K     \u001b[38;2;114;156;31m━━━━━━━━━━━━━━━━━━━━━━━━━━━━━━━━━━━━━━━━\u001b[0m \u001b[32m12.3/12.3 MB\u001b[0m \u001b[31m33.8 MB/s\u001b[0m eta \u001b[36m0:00:00\u001b[0mm eta \u001b[36m0:00:01\u001b[0m[36m0:00:01\u001b[0m\n",
      "\u001b[?25hRequirement already satisfied: python-dateutil>=2.8.2 in ./lib/python3.10/site-packages (from pandas) (2.8.2)\n",
      "Collecting tzdata>=2022.1\n",
      "  Using cached tzdata-2023.3-py2.py3-none-any.whl (341 kB)\n",
      "Collecting pytz>=2020.1\n",
      "  Using cached pytz-2023.3-py2.py3-none-any.whl (502 kB)\n",
      "Requirement already satisfied: numpy>=1.21.0 in ./lib/python3.10/site-packages (from pandas) (1.24.3)\n",
      "Requirement already satisfied: six>=1.5 in ./lib/python3.10/site-packages (from python-dateutil>=2.8.2->pandas) (1.16.0)\n",
      "Installing collected packages: pytz, tzdata, pandas\n",
      "Successfully installed pandas-2.0.2 pytz-2023.3 tzdata-2023.3\n",
      "\n",
      "\u001b[1m[\u001b[0m\u001b[34;49mnotice\u001b[0m\u001b[1;39;49m]\u001b[0m\u001b[39;49m A new release of pip available: \u001b[0m\u001b[31;49m22.3.1\u001b[0m\u001b[39;49m -> \u001b[0m\u001b[32;49m23.1.2\u001b[0m\n",
      "\u001b[1m[\u001b[0m\u001b[34;49mnotice\u001b[0m\u001b[1;39;49m]\u001b[0m\u001b[39;49m To update, run: \u001b[0m\u001b[32;49mpip install --upgrade pip\u001b[0m\n"
     ]
    }
   ],
   "source": [
    "!pip install pandas"
   ]
  },
  {
   "cell_type": "code",
   "execution_count": 6,
   "metadata": {},
   "outputs": [
    {
     "data": {
      "text/plain": [
       "(39, 33)"
      ]
     },
     "execution_count": 6,
     "metadata": {},
     "output_type": "execute_result"
    }
   ],
   "source": [
    "import pandas as pd\n",
    "import json\n",
    "import os\n",
    "map = pd.read_csv(\"level/map.csv\")\n",
    "\n",
    "map.shape"
   ]
  },
  {
   "cell_type": "code",
   "execution_count": 6,
   "metadata": {},
   "outputs": [
    {
     "name": "stdout",
     "output_type": "stream",
     "text": [
      "0 0 w\n",
      "1 0 w\n",
      "1 1 .\n",
      "1 2 1\n",
      "2 0 w\n",
      "2 1 .\n",
      "2 2 2\n",
      "3 0 w\n",
      "3 1 .\n",
      "3 2 3\n",
      "4 0 w\n",
      "4 1 .\n",
      "4 2 4\n",
      "5 0 w\n",
      "5 1 .\n",
      "5 2 5\n",
      "6 0 w\n",
      "6 1 .\n",
      "6 2 6\n",
      "7 0 w\n",
      "7 1 .\n",
      "7 2 7\n",
      "8 0 w\n",
      "8 1 .\n",
      "8 2 8\n",
      "9 0 w\n",
      "9 1 .\n",
      "9 2 9\n",
      "10 0 w\n",
      "10 1 .\n",
      "10 2 1\n",
      "10 3 0\n",
      "11 0 w\n",
      "11 1 .\n",
      "11 2 1\n",
      "11 3 1\n",
      "12 0 w\n",
      "12 1 .\n",
      "12 2 1\n",
      "12 3 2\n",
      "13 0 w\n",
      "13 1 .\n",
      "13 2 1\n",
      "13 3 3\n",
      "14 0 w\n",
      "14 1 .\n",
      "14 2 1\n",
      "14 3 4\n",
      "15 0 w\n",
      "15 1 .\n",
      "15 2 1\n",
      "15 3 5\n",
      "16 0 w\n",
      "16 1 .\n",
      "16 2 1\n",
      "16 3 6\n",
      "17 0 w\n",
      "17 1 .\n",
      "17 2 1\n",
      "17 3 7\n",
      "18 0 w\n",
      "18 1 .\n",
      "18 2 1\n",
      "18 3 8\n",
      "19 0 w\n",
      "19 1 .\n",
      "19 2 1\n",
      "19 3 9\n",
      "20 0 w\n",
      "20 1 .\n",
      "20 2 2\n",
      "20 3 0\n",
      "21 0 w\n",
      "21 1 .\n",
      "21 2 2\n",
      "21 3 1\n",
      "22 0 w\n",
      "22 1 .\n",
      "22 2 2\n",
      "22 3 2\n",
      "23 0 w\n",
      "23 1 .\n",
      "23 2 2\n",
      "23 3 3\n",
      "24 0 w\n",
      "24 1 .\n",
      "24 2 2\n",
      "24 3 4\n",
      "25 0 w\n",
      "25 1 .\n",
      "25 2 2\n",
      "25 3 5\n",
      "26 0 w\n",
      "26 1 .\n",
      "26 2 2\n",
      "26 3 6\n",
      "27 0 w\n",
      "27 1 .\n",
      "27 2 2\n",
      "27 3 7\n",
      "28 0 w\n",
      "28 1 .\n",
      "28 2 2\n",
      "28 3 8\n",
      "29 0 w\n",
      "29 1 .\n",
      "29 2 2\n",
      "29 3 9\n",
      "30 0 w\n",
      "30 1 .\n",
      "30 2 3\n",
      "30 3 0\n",
      "31 0 w\n",
      "31 1 .\n",
      "31 2 3\n",
      "31 3 1\n",
      "32 0 w\n",
      "32 1 .\n",
      "32 2 3\n",
      "32 3 2\n"
     ]
    }
   ],
   "source": [
    "for row_i, row in enumerate(map):\n",
    "    for col_i, col in enumerate(row):\n",
    "        print(row_i, col_i, col)"
   ]
  },
  {
   "cell_type": "code",
   "execution_count": 7,
   "metadata": {},
   "outputs": [],
   "source": [
    "entities = [map.shape[0], map.shape[1]]"
   ]
  },
  {
   "cell_type": "code",
   "execution_count": 8,
   "metadata": {},
   "outputs": [
    {
     "name": "stdout",
     "output_type": "stream",
     "text": [
      "[39, 33]\n"
     ]
    }
   ],
   "source": [
    "print(entities)"
   ]
  },
  {
   "cell_type": "code",
   "execution_count": 10,
   "metadata": {},
   "outputs": [],
   "source": [
    "def agent_loader( folder):\n",
    "    agent_config = []\n",
    "    #load all the agents in the folder\n",
    "    for _,__, files in os.walk(folder):\n",
    "        for file in files:\n",
    "            if file.endswith(\".json\"):\n",
    "                with open(folder + \"/\"+file) as f:\n",
    "                    data = json.load(f)\n",
    "                    agent_config.append((data))\n",
    "    return agent_config"
   ]
  },
  {
   "cell_type": "code",
   "execution_count": 11,
   "metadata": {},
   "outputs": [],
   "source": [
    "agents = agent_loader(\"assets/agents\")"
   ]
  },
  {
   "cell_type": "code",
   "execution_count": 13,
   "metadata": {},
   "outputs": [
    {
     "data": {
      "text/plain": [
       "'Adam'"
      ]
     },
     "execution_count": 13,
     "metadata": {},
     "output_type": "execute_result"
    }
   ],
   "source": [
    "agents[0][\"name\"]"
   ]
  },
  {
   "cell_type": "code",
   "execution_count": null,
   "metadata": {},
   "outputs": [],
   "source": []
  }
 ],
 "metadata": {
  "kernelspec": {
   "display_name": "gpt_world",
   "language": "python",
   "name": "python3"
  },
  "language_info": {
   "codemirror_mode": {
    "name": "ipython",
    "version": 3
   },
   "file_extension": ".py",
   "mimetype": "text/x-python",
   "name": "python",
   "nbconvert_exporter": "python",
   "pygments_lexer": "ipython3",
   "version": "3.10.9"
  },
  "orig_nbformat": 4
 },
 "nbformat": 4,
 "nbformat_minor": 2
}
